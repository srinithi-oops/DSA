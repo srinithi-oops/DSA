{
  "nbformat": 4,
  "nbformat_minor": 0,
  "metadata": {
    "colab": {
      "provenance": [],
      "authorship_tag": "ABX9TyMoBsyF5RZSWuRZ1014e9v4",
      "include_colab_link": true
    },
    "kernelspec": {
      "name": "python3",
      "display_name": "Python 3"
    },
    "language_info": {
      "name": "python"
    }
  },
  "cells": [
    {
      "cell_type": "markdown",
      "metadata": {
        "id": "view-in-github",
        "colab_type": "text"
      },
      "source": [
        "<a href=\"https://colab.research.google.com/github/srinithi-oops/DSA/blob/main/LinkedListAddition_java.ipynb\" target=\"_parent\"><img src=\"https://colab.research.google.com/assets/colab-badge.svg\" alt=\"Open In Colab\"/></a>"
      ]
    },
    {
      "cell_type": "code",
      "execution_count": 2,
      "metadata": {
        "colab": {
          "base_uri": "https://localhost:8080/"
        },
        "id": "zstPVJxQp6pW",
        "outputId": "fd247477-0630-45b6-afea-08b52ad53d27"
      },
      "outputs": [
        {
          "output_type": "stream",
          "name": "stdout",
          "text": [
            "7 0 8 \n"
          ]
        }
      ],
      "source": [
        "class ListNode:\n",
        "    def __init__(self, val=0, next=None):\n",
        "        self.val = val\n",
        "        self.next = next\n",
        "\n",
        "class LinkedListAddition:\n",
        "    def addTwoNumbers(self, l1, l2):\n",
        "        dummyHead = ListNode(0)\n",
        "        current = dummyHead\n",
        "        carry = 0\n",
        "\n",
        "\n",
        "        while l1 or l2 or carry:\n",
        "            sum = carry\n",
        "\n",
        "            if l1:\n",
        "                sum += l1.val\n",
        "                l1 = l1.next\n",
        "\n",
        "\n",
        "            if l2:\n",
        "                sum += l2.val\n",
        "                l2 = l2.next\n",
        "\n",
        "\n",
        "            carry = sum // 10\n",
        "            current.next = ListNode(sum % 10)\n",
        "            current = current.next\n",
        "\n",
        "        return dummyHead.next\n",
        "\n",
        "\n",
        "    def printList(self, node):\n",
        "        while node:\n",
        "            print(node.val, end=\" \")\n",
        "            node = node.next\n",
        "        print()\n",
        "\n",
        "\n",
        "l1 = ListNode(2)\n",
        "l1.next = ListNode(4)\n",
        "l1.next.next = ListNode(3)\n",
        "\n",
        "l2 = ListNode(5)\n",
        "l2.next = ListNode(6)\n",
        "l2.next.next = ListNode(4)\n",
        "\n",
        "solution = LinkedListAddition()\n",
        "result = solution.addTwoNumbers(l1, l2)\n",
        "solution.printList(result)"
      ]
    }
  ]
}